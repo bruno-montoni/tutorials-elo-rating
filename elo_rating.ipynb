{
 "cells": [
  {
   "cell_type": "markdown",
   "metadata": {},
   "source": [
    "# ```Elo Rating``` System #\n",
    " \n",
    "### Documentation ###\n",
    "- Kaggle Elo Rating Algorithm - [Link](https://www.kaggle.com/discussions/getting-started/216048);\n",
    "- Wikipedia Elo Rating - [Link](https://en.wikipedia.org/wiki/Elo_rating_system);\n",
    "- 538 Calculate NBA Elo - [Link](https://fivethirtyeight.com/features/how-we-calculate-nba-elo-ratings/);\n",
    "- Medium Elo Rating System - [Link](https://stanislav-stankovic.medium.com/elo-rating-system-6196cc59941e);"
   ]
  },
  {
   "cell_type": "markdown",
   "metadata": {},
   "source": [
    "### Importing Dependencies ###"
   ]
  },
  {
   "cell_type": "code",
   "execution_count": 8,
   "metadata": {},
   "outputs": [],
   "source": [
    "import numpy as np\n",
    "import pandas as pd \n",
    "import matplotlib.pyplot as plt"
   ]
  },
  {
   "cell_type": "markdown",
   "metadata": {},
   "source": [
    "---\n",
    "\n",
    "### Introduction ###\n",
    "```Elo Rating``` is a method for calculating the relative skill levels of players/teams in zero-sum games, like chess. Players with higher Elo rating have a higher probability of winning a game than a player with lower one. After each game, players' ratings are updated. \n",
    "\n",
    "If a player with higher Elo rating wins, only a few points are transferred from the lower rated player, however if the lower rated player wins, then transferred points from a higher rated player are far greater.\n",
    "\n",
    "The difference in rating between 2 players determines an estimate for the ```expected score``` between them.\n",
    "\n",
    "### Components ###\n",
    "There are mainly 3 main component of this rating system:\n",
    "\n",
    "**Intial Ratings**: when starting, all players are assigned a ```default score``` (a baseline);\n",
    "\n",
    "**Probability of Winning**: in a match between 2 players the probability (```P```) of winning depends exclusively on the ratings (```r```) of the players;"
   ]
  },
  {
   "cell_type": "code",
   "execution_count": 2,
   "metadata": {},
   "outputs": [
    {
     "data": {
      "text/latex": [
       "\\begin{align*}\n",
       "    & P_{1} = \\frac{r_{1}}{r_{1} + r_{2}} \\\\\n",
       "    & P_{2} = \\frac{r_{2}}{r_{1} + r_{2}}\n",
       "\\end{align*}\n"
      ],
      "text/plain": [
       "<IPython.core.display.Latex object>"
      ]
     },
     "metadata": {},
     "output_type": "display_data"
    }
   ],
   "source": [
    "%%latex\n",
    "\\begin{align*}\n",
    "    & P_{1} = \\frac{r_{1}}{r_{1} + r_{2}} \\\\\n",
    "    & P_{2} = \\frac{r_{2}}{r_{1} + r_{2}}\n",
    "\\end{align*}"
   ]
  },
  {
   "cell_type": "markdown",
   "metadata": {},
   "source": [
    "**Rating Shifting Factor**: the factor (```K```; constant set by the user) by which rating's from lossing team to be shifted to wining team, after every game. In case team 1 wins:"
   ]
  },
  {
   "cell_type": "code",
   "execution_count": 3,
   "metadata": {},
   "outputs": [
    {
     "data": {
      "text/latex": [
       "\\begin{align}\n",
       "    & r_{1} = r_{1} + k(1 - P_{1}) \\\\\n",
       "    & r_{2} = r_{2} + k(0 - P_{2}) \\\\\n",
       "\\end{align}\n"
      ],
      "text/plain": [
       "<IPython.core.display.Latex object>"
      ]
     },
     "metadata": {},
     "output_type": "display_data"
    }
   ],
   "source": [
    "%%latex\n",
    "\\begin{align*}\n",
    "    & r_{1} = r_{1} + k(1 - P_{1}) \\\\\n",
    "    & r_{2} = r_{2} + k(0 - P_{2}) \\\\\n",
    "\\end{align*}"
   ]
  },
  {
   "cell_type": "markdown",
   "metadata": {},
   "source": [
    "In case team 2 wins:"
   ]
  },
  {
   "cell_type": "code",
   "execution_count": 4,
   "metadata": {},
   "outputs": [
    {
     "data": {
      "text/latex": [
       "\\begin{align*}\n",
       "    & r_{1} = r_{1} + k(0 - P_{1}) \\\\\n",
       "    & r_{2} = r_{2} + k(1 - P_{2}) \\\\\n",
       "\\end{align*}\n"
      ],
      "text/plain": [
       "<IPython.core.display.Latex object>"
      ]
     },
     "metadata": {},
     "output_type": "display_data"
    }
   ],
   "source": [
    "%%latex\n",
    "\\begin{align*}\n",
    "    & r_{1} = r_{1} + k(0 - P_{1}) \\\\\n",
    "    & r_{2} = r_{2} + k(1 - P_{2}) \\\\\n",
    "\\end{align*}"
   ]
  },
  {
   "cell_type": "markdown",
   "metadata": {},
   "source": [
    "### Expected Score ###\n",
    "A player's ```expected score``` (```E```; ```expected outcome```) is their *probability of winning plus half their probability of drawing*. The probability of drawing, as opposed to having a decisive result, is not specified in the Elo system (instead, a draw is considered half a win and half a loss)."
   ]
  },
  {
   "cell_type": "code",
   "execution_count": 7,
   "metadata": {},
   "outputs": [
    {
     "data": {
      "text/latex": [
       "\\begin{align*}\n",
       "    & E_{1} = \\frac{1}{1 + 10^{(r_{2} - r_{1})/400}} \\\\\n",
       "    & E_{2} = \\frac{1}{1 + 10^{(r_{1} - r_{2})/400}} \\\\\n",
       "    & E_{1} + E_{2} = 1\n",
       "\\end{align*}\n"
      ],
      "text/plain": [
       "<IPython.core.display.Latex object>"
      ]
     },
     "metadata": {},
     "output_type": "display_data"
    }
   ],
   "source": [
    "%%latex\n",
    "\\begin{align*}\n",
    "    & E_{1} = \\frac{1}{1 + 10^{(r_{2} - r_{1})/400}} \\\\\n",
    "    & E_{2} = \\frac{1}{1 + 10^{(r_{1} - r_{2})/400}} \\\\\n",
    "    & E_{1} + E_{2} = 1\n",
    "\\end{align*}"
   ]
  },
  {
   "cell_type": "markdown",
   "metadata": {},
   "source": [
    "In our setup, for each ```400``` rating points of advantage over the opponent, the ```expected score``` is magnified 10x in comparison to the opponent's. When a player's actual tournament scores exceed/fall short their ```expected scores```, the Elo system takes this as evidence that player's rating is too low/high, and needs to be adjusted upward/downward.\n",
    "\n",
    "### Main ###"
   ]
  },
  {
   "cell_type": "code",
   "execution_count": 163,
   "metadata": {},
   "outputs": [
    {
     "data": {
      "text/html": [
       "<div>\n",
       "<style scoped>\n",
       "    .dataframe tbody tr th:only-of-type {\n",
       "        vertical-align: middle;\n",
       "    }\n",
       "\n",
       "    .dataframe tbody tr th {\n",
       "        vertical-align: top;\n",
       "    }\n",
       "\n",
       "    .dataframe thead th {\n",
       "        text-align: right;\n",
       "    }\n",
       "</style>\n",
       "<table border=\"1\" class=\"dataframe\">\n",
       "  <thead>\n",
       "    <tr style=\"text-align: right;\">\n",
       "      <th></th>\n",
       "      <th>date</th>\n",
       "      <th>season</th>\n",
       "      <th>neutral</th>\n",
       "      <th>playoff</th>\n",
       "      <th>team1</th>\n",
       "      <th>team2</th>\n",
       "      <th>elo1_pre</th>\n",
       "      <th>elo2_pre</th>\n",
       "      <th>elo_prob1</th>\n",
       "      <th>elo_prob2</th>\n",
       "      <th>elo1_post</th>\n",
       "      <th>elo2_post</th>\n",
       "      <th>score1</th>\n",
       "      <th>score2</th>\n",
       "    </tr>\n",
       "  </thead>\n",
       "  <tbody>\n",
       "    <tr>\n",
       "      <th>0</th>\n",
       "      <td>1920-09-26</td>\n",
       "      <td>1920</td>\n",
       "      <td>0</td>\n",
       "      <td>NaN</td>\n",
       "      <td>RII</td>\n",
       "      <td>STP</td>\n",
       "      <td>1503.947</td>\n",
       "      <td>1300.0</td>\n",
       "      <td>0.824651</td>\n",
       "      <td>0.175349</td>\n",
       "      <td>1516.108</td>\n",
       "      <td>1287.838</td>\n",
       "      <td>48</td>\n",
       "      <td>0</td>\n",
       "    </tr>\n",
       "    <tr>\n",
       "      <th>1</th>\n",
       "      <td>1920-10-03</td>\n",
       "      <td>1920</td>\n",
       "      <td>0</td>\n",
       "      <td>NaN</td>\n",
       "      <td>CBD</td>\n",
       "      <td>PTQ</td>\n",
       "      <td>1504.688</td>\n",
       "      <td>1300.0</td>\n",
       "      <td>0.825267</td>\n",
       "      <td>0.174733</td>\n",
       "      <td>1516.803</td>\n",
       "      <td>1287.885</td>\n",
       "      <td>48</td>\n",
       "      <td>0</td>\n",
       "    </tr>\n",
       "    <tr>\n",
       "      <th>2</th>\n",
       "      <td>1920-10-03</td>\n",
       "      <td>1920</td>\n",
       "      <td>0</td>\n",
       "      <td>NaN</td>\n",
       "      <td>BFF</td>\n",
       "      <td>WBU</td>\n",
       "      <td>1478.004</td>\n",
       "      <td>1300.0</td>\n",
       "      <td>0.802000</td>\n",
       "      <td>0.198000</td>\n",
       "      <td>1489.757</td>\n",
       "      <td>1288.247</td>\n",
       "      <td>32</td>\n",
       "      <td>6</td>\n",
       "    </tr>\n",
       "  </tbody>\n",
       "</table>\n",
       "</div>"
      ],
      "text/plain": [
       "         date  season  neutral playoff team1 team2  elo1_pre  elo2_pre  \\\n",
       "0  1920-09-26    1920        0     NaN   RII   STP  1503.947    1300.0   \n",
       "1  1920-10-03    1920        0     NaN   CBD   PTQ  1504.688    1300.0   \n",
       "2  1920-10-03    1920        0     NaN   BFF   WBU  1478.004    1300.0   \n",
       "\n",
       "   elo_prob1  elo_prob2  elo1_post  elo2_post  score1  score2  \n",
       "0   0.824651   0.175349   1516.108   1287.838      48       0  \n",
       "1   0.825267   0.174733   1516.803   1287.885      48       0  \n",
       "2   0.802000   0.198000   1489.757   1288.247      32       6  "
      ]
     },
     "execution_count": 163,
     "metadata": {},
     "output_type": "execute_result"
    }
   ],
   "source": [
    "# Reading the matches CSV\n",
    "nfl_df = pd.read_csv(\"nfl_data.csv\")\n",
    "nfl_df.head(3)"
   ]
  },
  {
   "cell_type": "markdown",
   "metadata": {},
   "source": [
    "**Cleaning Data**"
   ]
  },
  {
   "cell_type": "code",
   "execution_count": 164,
   "metadata": {},
   "outputs": [],
   "source": [
    "# Removing matches prior to 1995\n",
    "nfl_df = nfl_df[nfl_df[\"season\"] >= 2016] \n",
    "# Sorting based on 'date'\n",
    "nfl_df.sort_values(by= \"date\", ascending= True, inplace= True)\n",
    "# Reseting indexes\n",
    "nfl_df.reset_index(drop= True, inplace= True)"
   ]
  },
  {
   "cell_type": "code",
   "execution_count": 165,
   "metadata": {},
   "outputs": [],
   "source": [
    "# Renaming columns\n",
    "nfl_df.rename(columns={\"elo_prob1\": \"elo1_prob\", \"elo_prob2\": \"elo2_prob\"}, inplace= True)"
   ]
  },
  {
   "cell_type": "markdown",
   "metadata": {},
   "source": [
    "**User-Defined Functions**"
   ]
  },
  {
   "cell_type": "code",
   "execution_count": 166,
   "metadata": {},
   "outputs": [],
   "source": [
    "def k_factor(victory_margin, elo_diff):\n",
    "    # 'k': affects how quickly Elo adjusts to new game results\n",
    "    # 'victory_margin': home_score - away_score\n",
    "    #                   teams gain/lose more with larger margins of victory (via 'multiplier')\n",
    "    # 'multiplier': based on final score divided by a team’s projected 'victory_margin', upon having won the game\n",
    "    #               points won should be higher if 'victory_margin' is higher than Elo's expectation (with diminishing returns)\n",
    "    init_k = 20 # Optimal 'k' for NFL (empirically)\n",
    "                # Assumption: winning/losing streak is mostly skill (not luck)\n",
    "                #             streaks reflect true (even temporary) changes in team quality\n",
    "    if victory_margin > 0: # Home team wins\n",
    "        multiplier = (victory_margin + 3) ** (0.8) / (7.5 + 0.006 * (elo_diff))\n",
    "    else: # Away team wins\n",
    "        multiplier = (-victory_margin + 3) ** (0.8) / (7.5 + 0.006 *(-elo_diff))\n",
    "    return (init_k * multiplier, init_k * multiplier)"
   ]
  },
  {
   "cell_type": "code",
   "execution_count": 167,
   "metadata": {},
   "outputs": [],
   "source": [
    "def actual_outcome(home_score, away_score):\n",
    "    # 's_value': actual outcome of a match (1: win, 0.5: draw, 0: loss)\n",
    "    #            values are    \n",
    "    # Inital values\n",
    "    s_home, s_away = 0, 0\n",
    "    # Updating 's_value' based on match outcome\n",
    "    if home_score > away_score: # Home team wins\n",
    "        s_home = 1\n",
    "    elif away_score > home_score: # Away team wins\n",
    "        s_away = 1\n",
    "    else: # Draw\n",
    "        s_home, s_away = 0.5, 0.5\n",
    "    return (s_home, s_away)"
   ]
  },
  {
   "cell_type": "code",
   "execution_count": 168,
   "metadata": {},
   "outputs": [],
   "source": [
    "def expected_outcome(home_rating, away_rating):\n",
    "    # 'c': constant scale factor (based on satisfying human perception); here we use 400\n",
    "    return 1.0/(1 + 10 ** ((away_rating - home_rating) / (400.0))) # Expected outcome (E): maps the expectation of outcome onto the interval (0,1)"
   ]
  },
  {
   "cell_type": "code",
   "execution_count": 169,
   "metadata": {},
   "outputs": [],
   "source": [
    "def elo_update(home_score, away_score, home_rating, away_rating, is_neutral, home_advantage= 100.0):\n",
    "    # Checking for home advantage\n",
    "    if not is_neutral:\n",
    "        home_rating += home_advantage # 'home_advantage': bonus of 100 (could be higher depending on conditions, like altitute)\n",
    "                                      #                   the number above should be calculated with historical avg points on home team wins (and ratings counterpart)\n",
    "    # Updating params\n",
    "    elo_home = expected_outcome(home_rating, away_rating)  \n",
    "    elo_away = 1 - elo_home # E_home + E_away = 1\n",
    "    elo_diff = home_rating - away_rating\n",
    "    victory_margin = home_score\t- away_score  \n",
    "    # Updating 'actual_outcome' \n",
    "    s_home, s_away = actual_outcome(home_score, away_score)\n",
    "    # Updating 'k_factor' (based on match result)\n",
    "    if s_home > 0:\n",
    "        k_home, k_away = k_factor(victory_margin, elo_diff)\n",
    "    else:\n",
    "        k_home, k_away = k_factor(victory_margin, elo_diff)\n",
    "    return (k_home * (s_home - elo_home), k_away * (s_away - elo_away)) # Update factors on team's elo"
   ]
  },
  {
   "cell_type": "markdown",
   "metadata": {},
   "source": [
    "**Calculating**"
   ]
  },
  {
   "cell_type": "code",
   "execution_count": 170,
   "metadata": {},
   "outputs": [],
   "source": [
    "# Including blank calculation columns\n",
    "nfl_df[\"calc_elo1_pre\"] = \"\"\n",
    "nfl_df[\"calc_elo2_pre\"] = \"\"\n",
    "nfl_df[\"calc_elo1_prob\"] = \"\"\n",
    "nfl_df[\"calc_elo2_prob\"] = \"\"\n",
    "nfl_df[\"calc_elo1_post\"] = \"\"\n",
    "nfl_df[\"calc_elo2_post\"] = \"\""
   ]
  },
  {
   "cell_type": "code",
   "execution_count": 171,
   "metadata": {},
   "outputs": [],
   "source": [
    "# Finding the unique teams\n",
    "unique_teams = nfl_df[\"team1\"].unique()\n",
    "# Creating dictionary with last elo\n",
    "last_rating_dict = {}\n",
    "for team in unique_teams:\n",
    "    last_rating_dict[team] = [(\"2016-09-07\", 1500)] # 1st element as day before season's debut"
   ]
  },
  {
   "cell_type": "code",
   "execution_count": 172,
   "metadata": {},
   "outputs": [],
   "source": [
    "# Looping through all games \n",
    "for idx, game in nfl_df.iterrows(): \n",
    "    # Pulling parameters\n",
    "    date = game[\"date\"]\n",
    "    home_score = game[\"score1\"]\n",
    "    away_score = game[\"score2\"]\n",
    "    home_rating = last_rating_dict[game[\"team1\"]][-1][1] # Last tuple, 2nd item\n",
    "    away_rating = last_rating_dict[game[\"team2\"]][-1][1]\n",
    "    home_prob = expected_outcome(home_rating, away_rating)\n",
    "    away_prob = 1 - home_prob\n",
    "    is_neutral = bool(game[\"neutral\"])\n",
    "    # Calculating rates increments/decrements\n",
    "    home_elo, away_elo = elo_update(home_score, away_score, home_rating, away_rating, is_neutral)\n",
    "    # Updating the DataFrame\n",
    "    nfl_df.loc[idx, \"calc_elo1_pre\"] = home_rating\n",
    "    nfl_df.loc[idx, \"calc_elo2_pre\"] = away_rating\n",
    "    nfl_df.loc[idx, \"calc_elo1_prob\"] = home_prob\n",
    "    nfl_df.loc[idx, \"calc_elo2_prob\"] = away_prob\n",
    "    nfl_df.loc[idx, \"calc_elo1_post\"] = home_rating + home_elo\n",
    "    nfl_df.loc[idx, \"calc_elo2_post\"] = away_rating + away_elo\n",
    "    # Updating the dictionary\n",
    "    last_rating_dict[game[\"team1\"]].append((date, home_rating + home_elo))\n",
    "    last_rating_dict[game[\"team2\"]].append((date, away_rating + away_elo))"
   ]
  },
  {
   "cell_type": "markdown",
   "metadata": {},
   "source": [
    "**Preparing Data**"
   ]
  },
  {
   "cell_type": "code",
   "execution_count": 194,
   "metadata": {},
   "outputs": [],
   "source": [
    "## Superbowl 2017: New England x Atlanta Falcons (NE Champions)\n",
    "# Creating NE and ATL DataFrames\n",
    "ne_df = pd.DataFrame(last_rating_dict[\"NE\"], columns= [\"date\", \"elo_rating\"])\n",
    "atl_df = pd.DataFrame(last_rating_dict[\"ATL\"], columns= [\"date\", \"elo_rating\"])\n",
    "# Creating the dates DataFrame\n",
    "dates_df = pd.DataFrame({\"date\": pd.date_range(start= \"2016-09-07\", end= nfl_df[\"date\"].unique().max())})"
   ]
  },
  {
   "cell_type": "code",
   "execution_count": 195,
   "metadata": {},
   "outputs": [],
   "source": [
    "# Casting all 'date' cols as 'datetime'\n",
    "ne_df[\"date\"] = pd.to_datetime(ne_df[\"date\"], utc= True).dt.date\n",
    "atl_df[\"date\"] = pd.to_datetime(atl_df[\"date\"], utc= True).dt.date\n",
    "dates_df[\"date\"] = pd.to_datetime(dates_df[\"date\"], utc= True).dt.date"
   ]
  },
  {
   "cell_type": "code",
   "execution_count": 196,
   "metadata": {},
   "outputs": [],
   "source": [
    "# Merging NE/ATL dfs with 'dates_df'\n",
    "ne_df = pd.merge(dates_df, ne_df, how= \"left\", on= \"date\")\n",
    "atl_df = pd.merge(dates_df, atl_df, how= \"left\", on= \"date\")"
   ]
  },
  {
   "cell_type": "code",
   "execution_count": 205,
   "metadata": {},
   "outputs": [],
   "source": [
    "# Filling NaNs (forward) with previous available rating\n",
    "ne_df.ffill(inplace= True)\n",
    "atl_df.ffill(inplace= True)"
   ]
  },
  {
   "cell_type": "markdown",
   "metadata": {},
   "source": [
    "**Plotting**"
   ]
  },
  {
   "cell_type": "code",
   "execution_count": 301,
   "metadata": {},
   "outputs": [
    {
     "data": {
      "text/plain": [
       "<matplotlib.legend.Legend at 0x134387f10>"
      ]
     },
     "execution_count": 301,
     "metadata": {},
     "output_type": "execute_result"
    },
    {
     "data": {
      "image/png": "[encoded data removed]",
      "text/plain": [
       "<Figure size 1200x400 with 1 Axes>"
      ]
     },
     "metadata": {},
     "output_type": "display_data"
    }
   ],
   "source": [
    "## Plotting \n",
    "fig, ax = plt.subplots(nrows= 1, ncols= 1, figsize= (12, 4))\n",
    "ax.plot(ne_df[\"date\"], ne_df[\"elo_rating\"], linewidth= 1.5, color= \"blue\", label= \"NE\", zorder= 0)\n",
    "ax.plot(atl_df[\"date\"], atl_df[\"elo_rating\"], linewidth= 1.5, color= \"red\", label= \"ATL\", zorder= 0)\n",
    "# Labels\n",
    "ax.set_xlabel(\"Date\", fontname= \"sans-serif\", fontsize= 10, labelpad= 5) \n",
    "ax.set_ylabel(\"Elo Rating\", fontname= \"sans-serif\", fontsize= 10, labelpad= 5)\n",
    "# Ticks\n",
    "ax.set_xticks(ne_df[\"date\"][::14]) # Ticks every 2 weeks (reduce clutter)\n",
    "ax.set_xticklabels(ne_df[\"date\"][::14], rotation= 45, ha= \"right\", rotation_mode= \"anchor\")\n",
    "ax.tick_params(axis= \"both\", which= \"major\", labelsize= 8)\n",
    "# Title\n",
    "ax.set_title(\"2016-2018 Elo Rating\", loc= \"center\", fontsize= 12, fontname= \"sans-serif\", pad= 10) # Plot title\n",
    "# Grid\n",
    "ax.grid(which=\"both\", color= \"gray\", alpha=0.25)\n",
    "# Legend\n",
    "ax.legend()"
   ]
  },
  {
   "cell_type": "markdown",
   "metadata": {},
   "source": [
    "---"
   ]
  }
 ],
 "metadata": {
  "kernelspec": {
   "display_name": "Python 3",
   "language": "python",
   "name": "python3"
  },
  "language_info": {
   "codemirror_mode": {
    "name": "ipython",
    "version": 3
   },
   "file_extension": ".py",
   "mimetype": "text/x-python",
   "name": "python",
   "nbconvert_exporter": "python",
   "pygments_lexer": "ipython3",
   "version": "3.9.6"
  }
 },
 "nbformat": 4,
 "nbformat_minor": 2
}
